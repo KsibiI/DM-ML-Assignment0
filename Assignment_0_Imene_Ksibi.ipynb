{
  "nbformat": 4,
  "nbformat_minor": 0,
  "metadata": {
    "colab": {
      "name": "Assignment_0_Imene_Ksibi.ipynb",
      "provenance": [],
      "collapsed_sections": [],
      "toc_visible": true,
      "authorship_tag": "ABX9TyPksgPKrH3HbGLA/+fwCNqf",
      "include_colab_link": true
    },
    "kernelspec": {
      "name": "python3",
      "display_name": "Python 3"
    },
    "language_info": {
      "name": "python"
    }
  },
  "cells": [
    {
      "cell_type": "markdown",
      "metadata": {
        "id": "view-in-github",
        "colab_type": "text"
      },
      "source": [
        "<a href=\"https://colab.research.google.com/github/KsibiI/DM-ML-Assignment0/blob/main/Assignment_0_Imene_Ksibi.ipynb\" target=\"_parent\"><img src=\"https://colab.research.google.com/assets/colab-badge.svg\" alt=\"Open In Colab\"/></a>"
      ]
    },
    {
      "cell_type": "code",
      "metadata": {
        "id": "NUkwI3JoHk7f"
      },
      "source": [
        ""
      ],
      "execution_count": null,
      "outputs": []
    },
    {
      "cell_type": "markdown",
      "metadata": {
        "id": "S--LeI98JHC-"
      },
      "source": [
        "<h1><b><center>Covid 19 in Europe in September 2021</center></b></h1>\n",
        "\n",
        "<h2><b><i>1. Description of my dataset</i></b></h2>\n",
        "\n",
        "This dataset concernes the number of total cases, new cases, death due to Covid-19, but also the number of people cured in Septembre 2021 in European countries. I have chosen this dataset because Covid-19 is one of the most important hot topic. \n",
        "\n",
        "<b>Dimensionality and cardinality:</b> It contains 14 columns and 47 objects/rows. Each row represent a country.\n",
        "\n",
        "This dataset's values are already aggregated values, so there is little or no data cleaning work to do. But there are some missing values.\n",
        "\n",
        "Here you can find <i>[my dataset](https://www.kaggle.com/susant4learning/covid19europesept2021)</i> which comes from Kaggle. And here you can find <i>[my CSV file](https://raw.githubusercontent.com/KsibiI/DM-ML-Assignment0/main/Covid19_Europe_Sept21%203.csv)</i>.\n",
        "\n",
        "<img src='https://www.sgi-ssmi.ch/assets/images/2/COVID-19-5bb314e2.jpg'>\n",
        "\n"
      ]
    },
    {
      "cell_type": "code",
      "metadata": {
        "colab": {
          "base_uri": "https://localhost:8080/",
          "height": 396
        },
        "id": "lNNP5MMNpi1A",
        "outputId": "52c98469-6cd2-406f-d25f-3d6ec6fcec6b"
      },
      "source": [
        "import pandas as pd\n",
        "import numpy as np \n",
        "data = pd.read_csv('https://raw.githubusercontent.com/KsibiI/DM-ML-Assignment0/main/Covid19_Europe_September2021.csv', delimiter=';') \n",
        "data.head(10)"
      ],
      "execution_count": 61,
      "outputs": [
        {
          "output_type": "execute_result",
          "data": {
            "text/html": [
              "<div>\n",
              "<style scoped>\n",
              "    .dataframe tbody tr th:only-of-type {\n",
              "        vertical-align: middle;\n",
              "    }\n",
              "\n",
              "    .dataframe tbody tr th {\n",
              "        vertical-align: top;\n",
              "    }\n",
              "\n",
              "    .dataframe thead th {\n",
              "        text-align: right;\n",
              "    }\n",
              "</style>\n",
              "<table border=\"1\" class=\"dataframe\">\n",
              "  <thead>\n",
              "    <tr style=\"text-align: right;\">\n",
              "      <th></th>\n",
              "      <th>Country</th>\n",
              "      <th>Total Cases</th>\n",
              "      <th>New Cases</th>\n",
              "      <th>Total Deaths</th>\n",
              "      <th>New Deaths</th>\n",
              "      <th>Total Recovered</th>\n",
              "      <th>New Recovered</th>\n",
              "      <th>Active Cases</th>\n",
              "      <th>Serious, Critical</th>\n",
              "      <th>Tot Cases/ 1M pop</th>\n",
              "      <th>Deaths/1M pop</th>\n",
              "      <th>Total Tests</th>\n",
              "      <th>Tests/1M pop</th>\n",
              "      <th>Population</th>\n",
              "    </tr>\n",
              "  </thead>\n",
              "  <tbody>\n",
              "    <tr>\n",
              "      <th>0</th>\n",
              "      <td>Russia</td>\n",
              "      <td>6937333</td>\n",
              "      <td>18368</td>\n",
              "      <td>184014</td>\n",
              "      <td>790</td>\n",
              "      <td>6199379</td>\n",
              "      <td>18325</td>\n",
              "      <td>553940</td>\n",
              "      <td>2300</td>\n",
              "      <td>47514</td>\n",
              "      <td>1260</td>\n",
              "      <td>179100000</td>\n",
              "      <td>1226650</td>\n",
              "      <td>146007376</td>\n",
              "    </tr>\n",
              "    <tr>\n",
              "      <th>1</th>\n",
              "      <td>UK</td>\n",
              "      <td>6825074</td>\n",
              "      <td>35693</td>\n",
              "      <td>132742</td>\n",
              "      <td>207</td>\n",
              "      <td>5502108</td>\n",
              "      <td>35792</td>\n",
              "      <td>1190224</td>\n",
              "      <td>1014</td>\n",
              "      <td>99926</td>\n",
              "      <td>1943</td>\n",
              "      <td>270870957</td>\n",
              "      <td>3965828</td>\n",
              "      <td>68301245</td>\n",
              "    </tr>\n",
              "    <tr>\n",
              "      <th>2</th>\n",
              "      <td>France</td>\n",
              "      <td>6765708</td>\n",
              "      <td>\\n</td>\n",
              "      <td>114444</td>\n",
              "      <td>\\n</td>\n",
              "      <td>6255985</td>\n",
              "      <td>\\n</td>\n",
              "      <td>395279</td>\n",
              "      <td>2270</td>\n",
              "      <td>103385</td>\n",
              "      <td>1749</td>\n",
              "      <td>124769146</td>\n",
              "      <td>1906567</td>\n",
              "      <td>65441768</td>\n",
              "    </tr>\n",
              "    <tr>\n",
              "      <th>3</th>\n",
              "      <td>Spain</td>\n",
              "      <td>4861883</td>\n",
              "      <td>6818</td>\n",
              "      <td>84472</td>\n",
              "      <td>132</td>\n",
              "      <td>4381350</td>\n",
              "      <td>18452</td>\n",
              "      <td>396061</td>\n",
              "      <td>1518</td>\n",
              "      <td>103940</td>\n",
              "      <td>1806</td>\n",
              "      <td>60618810</td>\n",
              "      <td>1295942</td>\n",
              "      <td>46775880</td>\n",
              "    </tr>\n",
              "    <tr>\n",
              "      <th>4</th>\n",
              "      <td>Italy</td>\n",
              "      <td>4546487</td>\n",
              "      <td>6503</td>\n",
              "      <td>129290</td>\n",
              "      <td>51</td>\n",
              "      <td>4280619</td>\n",
              "      <td>7774</td>\n",
              "      <td>136578</td>\n",
              "      <td>540</td>\n",
              "      <td>75325</td>\n",
              "      <td>2142</td>\n",
              "      <td>84339436</td>\n",
              "      <td>1397315</td>\n",
              "      <td>60358206</td>\n",
              "    </tr>\n",
              "    <tr>\n",
              "      <th>5</th>\n",
              "      <td>Germany</td>\n",
              "      <td>3961505</td>\n",
              "      <td>6087</td>\n",
              "      <td>92740</td>\n",
              "      <td>10</td>\n",
              "      <td>3744600</td>\n",
              "      <td>6600</td>\n",
              "      <td>124165</td>\n",
              "      <td>1135</td>\n",
              "      <td>47107</td>\n",
              "      <td>1103</td>\n",
              "      <td>68329706</td>\n",
              "      <td>812520</td>\n",
              "      <td>84095984</td>\n",
              "    </tr>\n",
              "    <tr>\n",
              "      <th>6</th>\n",
              "      <td>Poland</td>\n",
              "      <td>2889036</td>\n",
              "      <td>366</td>\n",
              "      <td>75358</td>\n",
              "      <td>13</td>\n",
              "      <td>2657084</td>\n",
              "      <td>\\n</td>\n",
              "      <td>156594</td>\n",
              "      <td>55</td>\n",
              "      <td>76433</td>\n",
              "      <td>1994</td>\n",
              "      <td>19819235</td>\n",
              "      <td>524342</td>\n",
              "      <td>37798302</td>\n",
              "    </tr>\n",
              "    <tr>\n",
              "      <th>7</th>\n",
              "      <td>Ukraine</td>\n",
              "      <td>2288371</td>\n",
              "      <td>2075</td>\n",
              "      <td>53833</td>\n",
              "      <td>44</td>\n",
              "      <td>2208865</td>\n",
              "      <td>925</td>\n",
              "      <td>25673</td>\n",
              "      <td>177</td>\n",
              "      <td>52694</td>\n",
              "      <td>1240</td>\n",
              "      <td>12008463</td>\n",
              "      <td>276518</td>\n",
              "      <td>43427361</td>\n",
              "    </tr>\n",
              "    <tr>\n",
              "      <th>8</th>\n",
              "      <td>Netherlands</td>\n",
              "      <td>1943882</td>\n",
              "      <td>2827</td>\n",
              "      <td>18012</td>\n",
              "      <td>2</td>\n",
              "      <td>1851899</td>\n",
              "      <td>2082</td>\n",
              "      <td>73971</td>\n",
              "      <td>206</td>\n",
              "      <td>113154</td>\n",
              "      <td>1048</td>\n",
              "      <td>16593808</td>\n",
              "      <td>965933</td>\n",
              "      <td>17179038</td>\n",
              "    </tr>\n",
              "    <tr>\n",
              "      <th>9</th>\n",
              "      <td>Czechia</td>\n",
              "      <td>1679476</td>\n",
              "      <td>287</td>\n",
              "      <td>30404</td>\n",
              "      <td>\\n</td>\n",
              "      <td>1647148</td>\n",
              "      <td>22</td>\n",
              "      <td>1924</td>\n",
              "      <td>9</td>\n",
              "      <td>156491</td>\n",
              "      <td>2833</td>\n",
              "      <td>36018150</td>\n",
              "      <td>3356106</td>\n",
              "      <td>10732126</td>\n",
              "    </tr>\n",
              "  </tbody>\n",
              "</table>\n",
              "</div>"
            ],
            "text/plain": [
              "       Country  Total Cases New Cases  ...  Total Tests Tests/1M pop  Population\n",
              "0       Russia      6937333     18368  ...    179100000      1226650   146007376\n",
              "1           UK      6825074     35693  ...    270870957      3965828    68301245\n",
              "2       France      6765708        \\n  ...    124769146      1906567    65441768\n",
              "3        Spain      4861883      6818  ...     60618810      1295942    46775880\n",
              "4        Italy      4546487      6503  ...     84339436      1397315    60358206\n",
              "5      Germany      3961505      6087  ...     68329706       812520    84095984\n",
              "6       Poland      2889036       366  ...     19819235       524342    37798302\n",
              "7      Ukraine      2288371      2075  ...     12008463       276518    43427361\n",
              "8  Netherlands      1943882      2827  ...     16593808       965933    17179038\n",
              "9      Czechia      1679476       287  ...     36018150      3356106    10732126\n",
              "\n",
              "[10 rows x 14 columns]"
            ]
          },
          "metadata": {},
          "execution_count": 61
        }
      ]
    },
    {
      "cell_type": "code",
      "metadata": {
        "colab": {
          "base_uri": "https://localhost:8080/"
        },
        "id": "i41AhKPjBVb-",
        "outputId": "adfb5b0e-11c7-44d0-f47c-0a86a28f5c3e"
      },
      "source": [
        "data.shape"
      ],
      "execution_count": 54,
      "outputs": [
        {
          "output_type": "execute_result",
          "data": {
            "text/plain": [
              "(47, 14)"
            ]
          },
          "metadata": {},
          "execution_count": 54
        }
      ]
    },
    {
      "cell_type": "code",
      "metadata": {
        "colab": {
          "base_uri": "https://localhost:8080/"
        },
        "id": "n8d6fYYMVinu",
        "outputId": "ec746816-02a5-48b6-8674-44476b1ea00e"
      },
      "source": [
        "data.columns"
      ],
      "execution_count": 8,
      "outputs": [
        {
          "output_type": "execute_result",
          "data": {
            "text/plain": [
              "Index(['Country', 'Total Cases', 'New Cases', 'Total Deaths', 'New Deaths',\n",
              "       'Total Recovered', 'New Recovered', 'Active Cases', 'Serious, Critical',\n",
              "       'Tot Cases/ 1M pop', 'Deaths/1M pop', 'Total Tests', 'Tests/1M pop',\n",
              "       'Population'],\n",
              "      dtype='object')"
            ]
          },
          "metadata": {},
          "execution_count": 8
        }
      ]
    },
    {
      "cell_type": "code",
      "metadata": {
        "colab": {
          "base_uri": "https://localhost:8080/"
        },
        "id": "BEvzIaF97Xpm",
        "outputId": "83cbc234-311e-4d68-cf43-7a2686fe5be9"
      },
      "source": [
        "data.info()"
      ],
      "execution_count": 35,
      "outputs": [
        {
          "output_type": "stream",
          "name": "stdout",
          "text": [
            "<class 'pandas.core.frame.DataFrame'>\n",
            "RangeIndex: 47 entries, 0 to 46\n",
            "Data columns (total 14 columns):\n",
            " #   Column             Non-Null Count  Dtype \n",
            "---  ------             --------------  ----- \n",
            " 0   Country            47 non-null     object\n",
            " 1   Total Cases        47 non-null     int64 \n",
            " 2   New Cases          47 non-null     object\n",
            " 3   Total Deaths       47 non-null     int64 \n",
            " 4   New Deaths         47 non-null     object\n",
            " 5   Total Recovered    47 non-null     int64 \n",
            " 6   New Recovered      47 non-null     object\n",
            " 7   Active Cases       47 non-null     int64 \n",
            " 8   Serious, Critical  47 non-null     object\n",
            " 9   Tot Cases/ 1M pop  47 non-null     int64 \n",
            " 10  Deaths/1M pop      47 non-null     int64 \n",
            " 11  Total Tests        47 non-null     int64 \n",
            " 12  Tests/1M pop       47 non-null     int64 \n",
            " 13  Population         47 non-null     int64 \n",
            "dtypes: int64(9), object(5)\n",
            "memory usage: 5.3+ KB\n"
          ]
        }
      ]
    },
    {
      "cell_type": "code",
      "metadata": {
        "colab": {
          "base_uri": "https://localhost:8080/",
          "height": 86
        },
        "id": "Eq50DLBaD2tN",
        "outputId": "5587f877-7d5b-41f9-cdf5-27d7af997511"
      },
      "source": [
        "data.loc[data.duplicated()=='True', :]"
      ],
      "execution_count": 60,
      "outputs": [
        {
          "output_type": "execute_result",
          "data": {
            "text/html": [
              "<div>\n",
              "<style scoped>\n",
              "    .dataframe tbody tr th:only-of-type {\n",
              "        vertical-align: middle;\n",
              "    }\n",
              "\n",
              "    .dataframe tbody tr th {\n",
              "        vertical-align: top;\n",
              "    }\n",
              "\n",
              "    .dataframe thead th {\n",
              "        text-align: right;\n",
              "    }\n",
              "</style>\n",
              "<table border=\"1\" class=\"dataframe\">\n",
              "  <thead>\n",
              "    <tr style=\"text-align: right;\">\n",
              "      <th></th>\n",
              "      <th>Country</th>\n",
              "      <th>Total Cases</th>\n",
              "      <th>New Cases</th>\n",
              "      <th>Total Deaths</th>\n",
              "      <th>New Deaths</th>\n",
              "      <th>Total Recovered</th>\n",
              "      <th>New Recovered</th>\n",
              "      <th>Active Cases</th>\n",
              "      <th>Serious, Critical</th>\n",
              "      <th>Tot Cases/ 1M pop</th>\n",
              "      <th>Deaths/1M pop</th>\n",
              "      <th>Total Tests</th>\n",
              "      <th>Tests/1M pop</th>\n",
              "      <th>Population</th>\n",
              "    </tr>\n",
              "  </thead>\n",
              "  <tbody>\n",
              "  </tbody>\n",
              "</table>\n",
              "</div>"
            ],
            "text/plain": [
              "Empty DataFrame\n",
              "Columns: [Country, Total Cases, New Cases, Total Deaths, New Deaths, Total Recovered, New Recovered, Active Cases, Serious, Critical, Tot Cases/ 1M pop, Deaths/1M pop, Total Tests, Tests/1M pop, Population]\n",
              "Index: []"
            ]
          },
          "metadata": {},
          "execution_count": 60
        }
      ]
    },
    {
      "cell_type": "code",
      "metadata": {
        "colab": {
          "base_uri": "https://localhost:8080/"
        },
        "id": "JOphgqtIEeW_",
        "outputId": "c4b3d698-424f-4f27-99d8-0c7baa241ab6"
      },
      "source": [
        "data.isnull().sum()"
      ],
      "execution_count": 65,
      "outputs": [
        {
          "output_type": "execute_result",
          "data": {
            "text/plain": [
              "Country              0\n",
              "Total Cases          0\n",
              "New Cases            0\n",
              "Total Deaths         0\n",
              "New Deaths           0\n",
              "Total Recovered      0\n",
              "New Recovered        0\n",
              "Active Cases         0\n",
              "Serious, Critical    0\n",
              "Tot Cases/ 1M pop    0\n",
              "Deaths/1M pop        0\n",
              "Total Tests          0\n",
              "Tests/1M pop         0\n",
              "Population           0\n",
              "dtype: int64"
            ]
          },
          "metadata": {},
          "execution_count": 65
        }
      ]
    },
    {
      "cell_type": "markdown",
      "metadata": {
        "id": "4oNeVtiFGGHr"
      },
      "source": [
        "<b>Data cleaning:</b> The dataset I have chosen is quite small and there are already aggregated data. So there isn't a lot of cleaning to do. However, we note that some data is missing (\\n). We have the possibility to delete the lines which contain missing data but in my opinion, the loss of information would be too important given the size of the dataset. I think the better way would be to compare the data with the same dataset of August and October 2021 et deduce the missing data.\n",
        "\n",
        "as you can see above, we can believe that there is no missing data but when we look at the dataset we find some. I haven't managed to fix this problem yet. I think it comes from the fact that in my CSV file, the missing data is written \"\\ n\" and not \"NaN\".\n",
        "  "
      ]
    },
    {
      "cell_type": "markdown",
      "metadata": {
        "id": "GfaZtpOO3PUp"
      },
      "source": [
        "<h2><b><i>2. Why is my dataset interesting?</i></b></h2>\n",
        "\n",
        "This dataset is particularly useful for the World Health Organization.</br>\n",
        "Thanks to these data, we can observe which European country shows the lowest rate of new cases of Covid 19 and take a closer look at the sanitary measures that have been taken in this country, or even lifestyle habits of its population in order to better understand what increases od decreases the transmission of the virus.\n",
        "\n",
        "<img src='https://www.unhcr.org/dach/wp-content/uploads/sites/27/2020/03/BAG_Screen_CoVi_QR_Abstand_langfristig_1920x1080_rgb_f1.jpg'>\n",
        "\n",
        "If we could find the same dataset for August 2021 and Octobre 2021 we can deduce, for example, the evolution of the number of new cases and decide to increase or reduce sanitary measures.\n"
      ]
    },
    {
      "cell_type": "markdown",
      "metadata": {
        "id": "aT6X9zwRfCPV"
      },
      "source": [
        "<h2><b><i>3. My presentation Video</i></b></h2>\n",
        "\n",
        "Here you can see my presentation video"
      ]
    }
  ]
}